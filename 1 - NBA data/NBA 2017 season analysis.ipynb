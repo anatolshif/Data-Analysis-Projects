{
 "cells": [
  {
   "cell_type": "markdown",
   "metadata": {},
   "source": [
    "####                     Introduction"
   ]
  },
  {
   "cell_type": "markdown",
   "metadata": {},
   "source": [
    " In this project, I've worked with data from the 2017 NBA Season (a pretty exciting one) to perform Data Wrangling, and then some analysis.\n",
    "\n",
    "I've started by performing some Data Wrangling techniques to join the data from the season with that of players. We'll then perform different modifications and cleaning tasks to make sure our data is ready for analysis.\n",
    "\n",
    "Finally, we'll perform some analysis using Group By and Transform operations."
   ]
  },
  {
   "cell_type": "code",
   "execution_count": 28,
   "metadata": {},
   "outputs": [],
   "source": [
    "import pandas as pd\n",
    "players_df = pd.read_csv('player_data.csv')\n",
    "s2017_df = pd.read_csv('2017_season_data.csv')"
   ]
  },
  {
   "cell_type": "markdown",
   "metadata": {},
   "source": [
    "#### Merging the data\n",
    "Let's start by merging the data from the season with player's data.\n",
    "Merge s2017_df and players_df with a left join"
   ]
  },
  {
   "cell_type": "code",
   "execution_count": 29,
   "metadata": {},
   "outputs": [],
   "source": [
    "df = s2017_df.merge(players_df, how = 'left', left_on = 'Player', right_on = 'name')"
   ]
  },
  {
   "cell_type": "code",
   "execution_count": 30,
   "metadata": {},
   "outputs": [
    {
     "name": "stdout",
     "output_type": "stream",
     "text": [
      "<class 'pandas.core.frame.DataFrame'>\n",
      "RangeIndex: 605 entries, 0 to 604\n",
      "Data columns (total 60 columns):\n",
      " #   Column      Non-Null Count  Dtype  \n",
      "---  ------      --------------  -----  \n",
      " 0   Year        605 non-null    float64\n",
      " 1   Player      605 non-null    object \n",
      " 2   Pos         605 non-null    object \n",
      " 3   Age         605 non-null    float64\n",
      " 4   Tm          605 non-null    object \n",
      " 5   G           605 non-null    float64\n",
      " 6   GS          605 non-null    float64\n",
      " 7   MP          605 non-null    float64\n",
      " 8   PER         605 non-null    float64\n",
      " 9   TS%         603 non-null    float64\n",
      " 10  3PAr        603 non-null    float64\n",
      " 11  FTr         603 non-null    float64\n",
      " 12  ORB%        605 non-null    float64\n",
      " 13  DRB%        605 non-null    float64\n",
      " 14  TRB%        605 non-null    float64\n",
      " 15  AST%        605 non-null    float64\n",
      " 16  STL%        605 non-null    float64\n",
      " 17  BLK%        605 non-null    float64\n",
      " 18  TOV%        603 non-null    float64\n",
      " 19  USG%        605 non-null    float64\n",
      " 20  blanl       0 non-null      float64\n",
      " 21  OWS         605 non-null    float64\n",
      " 22  DWS         605 non-null    float64\n",
      " 23  WS          605 non-null    float64\n",
      " 24  WS/48       605 non-null    float64\n",
      " 25  blank2      0 non-null      float64\n",
      " 26  OBPM        605 non-null    float64\n",
      " 27  DBPM        605 non-null    float64\n",
      " 28  BPM         605 non-null    float64\n",
      " 29  VORP        605 non-null    float64\n",
      " 30  FG          605 non-null    float64\n",
      " 31  FGA         605 non-null    float64\n",
      " 32  FG%         603 non-null    float64\n",
      " 33  3P          605 non-null    float64\n",
      " 34  3PA         605 non-null    float64\n",
      " 35  3P%         558 non-null    float64\n",
      " 36  2P          605 non-null    float64\n",
      " 37  2PA         605 non-null    float64\n",
      " 38  2P%         600 non-null    float64\n",
      " 39  eFG%        603 non-null    float64\n",
      " 40  FT          605 non-null    float64\n",
      " 41  FTA         605 non-null    float64\n",
      " 42  FT%         581 non-null    float64\n",
      " 43  ORB         605 non-null    float64\n",
      " 44  DRB         605 non-null    float64\n",
      " 45  TRB         605 non-null    float64\n",
      " 46  AST         605 non-null    float64\n",
      " 47  STL         605 non-null    float64\n",
      " 48  BLK         605 non-null    float64\n",
      " 49  TOV         605 non-null    float64\n",
      " 50  PF          605 non-null    float64\n",
      " 51  PTS         605 non-null    float64\n",
      " 52  name        601 non-null    object \n",
      " 53  year_start  601 non-null    float64\n",
      " 54  year_end    601 non-null    float64\n",
      " 55  position    601 non-null    object \n",
      " 56  height      601 non-null    object \n",
      " 57  weight      601 non-null    float64\n",
      " 58  birth_date  601 non-null    object \n",
      " 59  college     487 non-null    object \n",
      "dtypes: float64(52), object(8)\n",
      "memory usage: 283.7+ KB\n"
     ]
    }
   ],
   "source": [
    "# checking if there are any missmatches\n",
    "df.info()"
   ]
  },
  {
   "cell_type": "code",
   "execution_count": 31,
   "metadata": {},
   "outputs": [
    {
     "data": {
      "text/plain": [
       "Year            0\n",
       "Player          0\n",
       "Pos             0\n",
       "Age             0\n",
       "Tm              0\n",
       "G               0\n",
       "GS              0\n",
       "MP              0\n",
       "PER             0\n",
       "TS%             2\n",
       "3PAr            2\n",
       "FTr             2\n",
       "ORB%            0\n",
       "DRB%            0\n",
       "TRB%            0\n",
       "AST%            0\n",
       "STL%            0\n",
       "BLK%            0\n",
       "TOV%            2\n",
       "USG%            0\n",
       "blanl         605\n",
       "OWS             0\n",
       "DWS             0\n",
       "WS              0\n",
       "WS/48           0\n",
       "blank2        605\n",
       "OBPM            0\n",
       "DBPM            0\n",
       "BPM             0\n",
       "VORP            0\n",
       "FG              0\n",
       "FGA             0\n",
       "FG%             2\n",
       "3P              0\n",
       "3PA             0\n",
       "3P%            47\n",
       "2P              0\n",
       "2PA             0\n",
       "2P%             5\n",
       "eFG%            2\n",
       "FT              0\n",
       "FTA             0\n",
       "FT%            24\n",
       "ORB             0\n",
       "DRB             0\n",
       "TRB             0\n",
       "AST             0\n",
       "STL             0\n",
       "BLK             0\n",
       "TOV             0\n",
       "PF              0\n",
       "PTS             0\n",
       "name            4\n",
       "year_start      4\n",
       "year_end        4\n",
       "position        4\n",
       "height          4\n",
       "weight          4\n",
       "birth_date      4\n",
       "college       118\n",
       "dtype: int64"
      ]
     },
     "execution_count": 31,
     "metadata": {},
     "output_type": "execute_result"
    }
   ],
   "source": [
    "#check how many missmathces there are under each row.\n",
    "df.isna().sum()"
   ]
  },
  {
   "cell_type": "code",
   "execution_count": 32,
   "metadata": {},
   "outputs": [],
   "source": [
    "# Extracting the names of players that couldn't be matched.\n",
    "player_misses=df[df['name'].isna()]\n",
    "player_misses= player_misses['Player']\n",
    "player_misses = list(player_misses)"
   ]
  },
  {
   "cell_type": "code",
   "execution_count": 33,
   "metadata": {},
   "outputs": [],
   "source": [
    "# Modifying players_df with the correct names to re-try a successful merge.\n",
    "player_names_replacements = {\n",
    "     \"Luc Mbah a Moute\": \"Luc Mbah\",\n",
    "     \"James Michael McAdoo\": \"James Michael\",\n",
    "     \"Sheldon Mac\": \"Sheldon McClellan\",\n",
    "     \"Metta World Peace\": \"Metta World\",\n",
    "}\n",
    "\n",
    "for old_name, new_name in player_names_replacements.items():\n",
    "    players_df.loc[players_df['name'] == old_name, 'name'] = new_name\n"
   ]
  },
  {
   "cell_type": "code",
   "execution_count": 34,
   "metadata": {},
   "outputs": [],
   "source": [
    "# Performing the merge between s2017_df and players_df again, this time, without misses.\n",
    "df = s2017_df.merge(players_df, how = 'left', left_on = 'Player', right_on = 'name')"
   ]
  },
  {
   "cell_type": "code",
   "execution_count": 35,
   "metadata": {},
   "outputs": [],
   "source": [
    "# Removing unnecessary columns.\n",
    "df.drop(columns = [\n",
    "    \"Year\",\n",
    "    \"PER\",\n",
    "    \"TS%\",\n",
    "    \"3PAr\",\n",
    "    \"FTr\",\n",
    "    \"USG%\",\n",
    "    \"blanl\",\n",
    "    \"OWS\",\n",
    "    \"DWS\",\n",
    "    \"WS\",\n",
    "    \"WS/48\",\n",
    "    \"blank2\",\n",
    "    \"OBPM\",\n",
    "    \"DBPM\",\n",
    "    \"BPM\",\n",
    "    \"VORP\",\n",
    "    \"FG%\",\n",
    "    \"3P%\",\n",
    "    \"eFG%\",\n",
    "    \"FT%\",\n",
    "    \"name\",\n",
    "], inplace = True\n",
    ")"
   ]
  },
  {
   "cell_type": "code",
   "execution_count": 36,
   "metadata": {},
   "outputs": [],
   "source": [
    "# Rename teams to their full names.\n",
    "\n",
    "team_mapping = {\n",
    "    \"OKC\": \"Oklahoma City Thunder\",\n",
    "    \"DAL\": \"Dallas Mavericks\",\n",
    "    \"BRK\": \"Brooklyn Nets\",\n",
    "    \"SAC\": \"Sacramento Kings\",\n",
    "    \"NOP\": \"New Orleans Pelicans\",\n",
    "    \"MIN\": \"Minnesota Timberwolves\",\n",
    "    \"SAS\": \"San Antonio Spurs\",\n",
    "    \"IND\": \"Indiana Pacers\",\n",
    "    \"MEM\": \"Memphis Grizzlies\",\n",
    "    \"POR\": \"Portland Trail Blazers\",\n",
    "    \"CLE\": \"Cleveland Cavaliers\",\n",
    "    \"LAC\": \"Los Angeles Clippers\",\n",
    "    \"PHI\": \"Philadelphia 76ers\",\n",
    "    \"HOU\": \"Houston Rockets\",\n",
    "    \"MIL\": \"Milwaukee Bucks\",\n",
    "    \"NYK\": \"New York Knicks\",\n",
    "    \"DEN\": \"Denver Nuggets\",\n",
    "    \"ORL\": \"Orlando Magic\",\n",
    "    \"MIA\": \"Miami Heat\",\n",
    "    \"PHO\": \"Phoenix Suns\",\n",
    "    \"GSW\": \"Golden State Warriors\",\n",
    "    \"CHO\": \"Charlotte Hornets\",\n",
    "    \"DET\": \"Detroit Pistons\",\n",
    "    \"ATL\": \"Atlanta Hawks\",\n",
    "    \"WAS\": \"Washington Wizards\",\n",
    "    \"LAL\": \"Los Angeles Lakers\",\n",
    "    \"UTA\": \"Utah Jazz\",\n",
    "    \"BOS\": \"Boston Celtics\",\n",
    "    \"CHI\": \"Chicago Bulls\",\n",
    "    \"TOR\": \"Toronto Raptors\"\n",
    "}\n",
    "\n",
    "df['Team'] = df['Tm'].replace(team_mapping)"
   ]
  },
  {
   "cell_type": "code",
   "execution_count": 37,
   "metadata": {},
   "outputs": [],
   "source": [
    "# Convert birthday to a datetime object. \n",
    "\n",
    "df['birth_date'] = pd.to_datetime(df['birth_date'])"
   ]
  }
 ],
 "metadata": {
  "kernelspec": {
   "display_name": "Python 3",
   "language": "python",
   "name": "python3"
  },
  "language_info": {
   "codemirror_mode": {
    "name": "ipython",
    "version": 3
   },
   "file_extension": ".py",
   "mimetype": "text/x-python",
   "name": "python",
   "nbconvert_exporter": "python",
   "pygments_lexer": "ipython3",
   "version": "3.10.4"
  }
 },
 "nbformat": 4,
 "nbformat_minor": 2
}
