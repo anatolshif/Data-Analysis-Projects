{
 "cells": [
  {
   "cell_type": "markdown",
   "metadata": {},
   "source": [
    "####                     Introduction"
   ]
  },
  {
   "cell_type": "markdown",
   "metadata": {},
   "source": [
    " In this project, I've worked with data from the 2017 NBA Season (a pretty exciting one) to perform Data Wrangling, and then some analysis.\n",
    "\n",
    "I've started by performing some Data Wrangling techniques to join the data from the season with that of players. We'll then perform different modifications and cleaning tasks to make sure our data is ready for analysis.\n",
    "\n",
    "Finally, we'll perform some analysis using Group By and Transform operations."
   ]
  },
  {
   "cell_type": "code",
   "execution_count": 28,
   "metadata": {},
   "outputs": [],
   "source": [
    "import pandas as pd\n",
    "players_df = pd.read_csv('player_data.csv')\n",
    "s2017_df = pd.read_csv('2017_season_data.csv')"
   ]
  },
  {
   "cell_type": "markdown",
   "metadata": {},
   "source": [
    "#### Merging the data\n",
    "Let's start by merging the data from the season with player's data."
   ]
  },
  {
   "cell_type": "code",
   "execution_count": 29,
   "metadata": {},
   "outputs": [],
   "source": [
    "# Merge s2017_df and players_df with a left join.\n",
    "df = s2017_df.merge(players_df, how = 'left', left_on = 'Player', right_on = 'name')"
   ]
  },
  {
   "cell_type": "code",
   "execution_count": 49,
   "metadata": {},
   "outputs": [
    {
     "name": "stdout",
     "output_type": "stream",
     "text": [
      "<class 'pandas.core.frame.DataFrame'>\n",
      "Index: 551 entries, 0 to 604\n",
      "Data columns (total 40 columns):\n",
      " #   Column      Non-Null Count  Dtype         \n",
      "---  ------      --------------  -----         \n",
      " 0   Player      551 non-null    object        \n",
      " 1   Pos         551 non-null    object        \n",
      " 2   Age         551 non-null    float64       \n",
      " 3   Tm          551 non-null    object        \n",
      " 4   G           551 non-null    float64       \n",
      " 5   GS          551 non-null    float64       \n",
      " 6   MP          551 non-null    float64       \n",
      " 7   ORB%        551 non-null    float64       \n",
      " 8   DRB%        551 non-null    float64       \n",
      " 9   TRB%        551 non-null    float64       \n",
      " 10  AST%        551 non-null    float64       \n",
      " 11  STL%        551 non-null    float64       \n",
      " 12  BLK%        551 non-null    float64       \n",
      " 13  TOV%        549 non-null    float64       \n",
      " 14  FG          551 non-null    float64       \n",
      " 15  FGA         551 non-null    float64       \n",
      " 16  3P          551 non-null    float64       \n",
      " 17  3PA         551 non-null    float64       \n",
      " 18  2P          551 non-null    float64       \n",
      " 19  2PA         551 non-null    float64       \n",
      " 20  2P%         546 non-null    float64       \n",
      " 21  FT          551 non-null    float64       \n",
      " 22  FTA         551 non-null    float64       \n",
      " 23  ORB         551 non-null    float64       \n",
      " 24  DRB         551 non-null    float64       \n",
      " 25  TRB         551 non-null    float64       \n",
      " 26  AST         551 non-null    float64       \n",
      " 27  STL         551 non-null    float64       \n",
      " 28  BLK         551 non-null    float64       \n",
      " 29  TOV         551 non-null    float64       \n",
      " 30  PF          551 non-null    float64       \n",
      " 31  PTS         551 non-null    float64       \n",
      " 32  year_start  551 non-null    int64         \n",
      " 33  year_end    551 non-null    int64         \n",
      " 34  position    551 non-null    object        \n",
      " 35  height      551 non-null    object        \n",
      " 36  weight      551 non-null    float64       \n",
      " 37  birth_date  551 non-null    datetime64[ns]\n",
      " 38  college     448 non-null    object        \n",
      " 39  Team        551 non-null    object        \n",
      "dtypes: datetime64[ns](1), float64(30), int64(2), object(7)\n",
      "memory usage: 176.5+ KB\n"
     ]
    }
   ],
   "source": [
    "# checking if there are any missmatches\n",
    "df.info()"
   ]
  },
  {
   "cell_type": "code",
   "execution_count": 46,
   "metadata": {},
   "outputs": [
    {
     "data": {
      "text/plain": [
       "height          0\n",
       "weight          0\n",
       "birth_date      0\n",
       "college       103\n",
       "Team            0\n",
       "dtype: int64"
      ]
     },
     "execution_count": 46,
     "metadata": {},
     "output_type": "execute_result"
    }
   ],
   "source": [
    "#check how many missmathces there are under each row.\n",
    "df.isna().sum().tail()"
   ]
  },
  {
   "cell_type": "code",
   "execution_count": 32,
   "metadata": {},
   "outputs": [],
   "source": [
    "# Extracting the names of players that couldn't be matched.\n",
    "player_misses=df[df['name'].isna()]\n",
    "player_misses= player_misses['Player']\n",
    "player_misses = list(player_misses)"
   ]
  },
  {
   "cell_type": "code",
   "execution_count": 33,
   "metadata": {},
   "outputs": [],
   "source": [
    "# Modifying players_df with the correct names to re-try a successful merge.\n",
    "player_names_replacements = {\n",
    "     \"Luc Mbah a Moute\": \"Luc Mbah\",\n",
    "     \"James Michael McAdoo\": \"James Michael\",\n",
    "     \"Sheldon Mac\": \"Sheldon McClellan\",\n",
    "     \"Metta World Peace\": \"Metta World\",\n",
    "}\n",
    "\n",
    "for old_name, new_name in player_names_replacements.items():\n",
    "    players_df.loc[players_df['name'] == old_name, 'name'] = new_name\n"
   ]
  },
  {
   "cell_type": "code",
   "execution_count": 34,
   "metadata": {},
   "outputs": [],
   "source": [
    "# Performing the merge between s2017_df and players_df again, this time, without misses.\n",
    "df = s2017_df.merge(players_df, how = 'left', left_on = 'Player', right_on = 'name')"
   ]
  },
  {
   "cell_type": "code",
   "execution_count": 35,
   "metadata": {},
   "outputs": [],
   "source": [
    "# Removing unnecessary columns.\n",
    "df.drop(columns = [\n",
    "    \"Year\",\n",
    "    \"PER\",\n",
    "    \"TS%\",\n",
    "    \"3PAr\",\n",
    "    \"FTr\",\n",
    "    \"USG%\",\n",
    "    \"blanl\",\n",
    "    \"OWS\",\n",
    "    \"DWS\",\n",
    "    \"WS\",\n",
    "    \"WS/48\",\n",
    "    \"blank2\",\n",
    "    \"OBPM\",\n",
    "    \"DBPM\",\n",
    "    \"BPM\",\n",
    "    \"VORP\",\n",
    "    \"FG%\",\n",
    "    \"3P%\",\n",
    "    \"eFG%\",\n",
    "    \"FT%\",\n",
    "    \"name\",\n",
    "], inplace = True\n",
    ")"
   ]
  },
  {
   "cell_type": "code",
   "execution_count": 36,
   "metadata": {},
   "outputs": [],
   "source": [
    "# Rename teams to their full names.\n",
    "\n",
    "team_mapping = {\n",
    "    \"OKC\": \"Oklahoma City Thunder\",\n",
    "    \"DAL\": \"Dallas Mavericks\",\n",
    "    \"BRK\": \"Brooklyn Nets\",\n",
    "    \"SAC\": \"Sacramento Kings\",\n",
    "    \"NOP\": \"New Orleans Pelicans\",\n",
    "    \"MIN\": \"Minnesota Timberwolves\",\n",
    "    \"SAS\": \"San Antonio Spurs\",\n",
    "    \"IND\": \"Indiana Pacers\",\n",
    "    \"MEM\": \"Memphis Grizzlies\",\n",
    "    \"POR\": \"Portland Trail Blazers\",\n",
    "    \"CLE\": \"Cleveland Cavaliers\",\n",
    "    \"LAC\": \"Los Angeles Clippers\",\n",
    "    \"PHI\": \"Philadelphia 76ers\",\n",
    "    \"HOU\": \"Houston Rockets\",\n",
    "    \"MIL\": \"Milwaukee Bucks\",\n",
    "    \"NYK\": \"New York Knicks\",\n",
    "    \"DEN\": \"Denver Nuggets\",\n",
    "    \"ORL\": \"Orlando Magic\",\n",
    "    \"MIA\": \"Miami Heat\",\n",
    "    \"PHO\": \"Phoenix Suns\",\n",
    "    \"GSW\": \"Golden State Warriors\",\n",
    "    \"CHO\": \"Charlotte Hornets\",\n",
    "    \"DET\": \"Detroit Pistons\",\n",
    "    \"ATL\": \"Atlanta Hawks\",\n",
    "    \"WAS\": \"Washington Wizards\",\n",
    "    \"LAL\": \"Los Angeles Lakers\",\n",
    "    \"UTA\": \"Utah Jazz\",\n",
    "    \"BOS\": \"Boston Celtics\",\n",
    "    \"CHI\": \"Chicago Bulls\",\n",
    "    \"TOR\": \"Toronto Raptors\"\n",
    "}\n",
    "\n",
    "df['Team'] = df['Tm'].replace(team_mapping)"
   ]
  },
  {
   "cell_type": "code",
   "execution_count": 37,
   "metadata": {},
   "outputs": [],
   "source": [
    "# Convert birthday to a datetime object. \n",
    "\n",
    "df['birth_date'] = pd.to_datetime(df['birth_date'])"
   ]
  },
  {
   "cell_type": "code",
   "execution_count": 38,
   "metadata": {},
   "outputs": [],
   "source": [
    "# Drop all Players with team \"TOT\". This team doesn't exist in reality it's just a placeholder for\n",
    "# players who have transferred teams in this season.\n",
    "\n",
    "df.drop(df.loc[df['Tm'] == 'TOT'].index, inplace = True)\n"
   ]
  },
  {
   "cell_type": "markdown",
   "metadata": {},
   "source": [
    "## Analysis"
   ]
  },
  {
   "cell_type": "markdown",
   "metadata": {},
   "source": [
    "1. What's the team with the most players in the league?"
   ]
  },
  {
   "cell_type": "code",
   "execution_count": 56,
   "metadata": {},
   "outputs": [
    {
     "data": {
      "text/plain": [
       "Team\n",
       "New Orleans Pelicans    27\n",
       "Dallas Mavericks        24\n",
       "Atlanta Hawks           22\n",
       "Cleveland Cavaliers     22\n",
       "Philadelphia 76ers      22\n",
       "Name: Player, dtype: int64"
      ]
     },
     "execution_count": 56,
     "metadata": {},
     "output_type": "execute_result"
    }
   ],
   "source": [
    "# let's list them out grouping them by team and then ordering them by descending order.\n",
    "df.groupby('Team')['Player'].size().sort_values(ascending = False).head()"
   ]
  },
  {
   "cell_type": "markdown",
   "metadata": {},
   "source": [
    "2. What's the team with the lowest `FG`?"
   ]
  },
  {
   "cell_type": "code",
   "execution_count": 55,
   "metadata": {},
   "outputs": [
    {
     "data": {
      "text/plain": [
       "Team\n",
       "Dallas Mavericks     2968.0\n",
       "Memphis Grizzlies    2984.0\n",
       "Utah Jazz            3033.0\n",
       "Charlotte Hornets    3093.0\n",
       "Brooklyn Nets        3102.0\n",
       "Name: FG, dtype: float64"
      ]
     },
     "execution_count": 55,
     "metadata": {},
     "output_type": "execute_result"
    }
   ],
   "source": [
    "df.groupby('Team')['FG'].sum().sort_values(ascending=True).head()"
   ]
  },
  {
   "cell_type": "markdown",
   "metadata": {},
   "source": [
    "3. What's the team with the best `FG%`?"
   ]
  },
  {
   "cell_type": "code",
   "execution_count": 54,
   "metadata": {},
   "outputs": [
    {
     "data": {
      "text/html": [
       "<div>\n",
       "<style scoped>\n",
       "    .dataframe tbody tr th:only-of-type {\n",
       "        vertical-align: middle;\n",
       "    }\n",
       "\n",
       "    .dataframe tbody tr th {\n",
       "        vertical-align: top;\n",
       "    }\n",
       "\n",
       "    .dataframe thead th {\n",
       "        text-align: right;\n",
       "    }\n",
       "</style>\n",
       "<table border=\"1\" class=\"dataframe\">\n",
       "  <thead>\n",
       "    <tr style=\"text-align: right;\">\n",
       "      <th></th>\n",
       "      <th>FG</th>\n",
       "      <th>FGA</th>\n",
       "      <th>FG%</th>\n",
       "    </tr>\n",
       "    <tr>\n",
       "      <th>Team</th>\n",
       "      <th></th>\n",
       "      <th></th>\n",
       "      <th></th>\n",
       "    </tr>\n",
       "  </thead>\n",
       "  <tbody>\n",
       "    <tr>\n",
       "      <th>Golden State Warriors</th>\n",
       "      <td>3532.0</td>\n",
       "      <td>7140.0</td>\n",
       "      <td>0.494678</td>\n",
       "    </tr>\n",
       "    <tr>\n",
       "      <th>San Antonio Spurs</th>\n",
       "      <td>3470.0</td>\n",
       "      <td>7284.0</td>\n",
       "      <td>0.476387</td>\n",
       "    </tr>\n",
       "    <tr>\n",
       "      <th>Los Angeles Clippers</th>\n",
       "      <td>3242.0</td>\n",
       "      <td>6819.0</td>\n",
       "      <td>0.475436</td>\n",
       "    </tr>\n",
       "    <tr>\n",
       "      <th>Washington Wizards</th>\n",
       "      <td>3388.0</td>\n",
       "      <td>7136.0</td>\n",
       "      <td>0.474776</td>\n",
       "    </tr>\n",
       "    <tr>\n",
       "      <th>Milwaukee Bucks</th>\n",
       "      <td>3190.0</td>\n",
       "      <td>6737.0</td>\n",
       "      <td>0.473505</td>\n",
       "    </tr>\n",
       "  </tbody>\n",
       "</table>\n",
       "</div>"
      ],
      "text/plain": [
       "                           FG     FGA       FG%\n",
       "Team                                           \n",
       "Golden State Warriors  3532.0  7140.0  0.494678\n",
       "San Antonio Spurs      3470.0  7284.0  0.476387\n",
       "Los Angeles Clippers   3242.0  6819.0  0.475436\n",
       "Washington Wizards     3388.0  7136.0  0.474776\n",
       "Milwaukee Bucks        3190.0  6737.0  0.473505"
      ]
     },
     "execution_count": 54,
     "metadata": {},
     "output_type": "execute_result"
    }
   ],
   "source": [
    "fg_perc_per_team = df.groupby('Team')[['FG','FGA']].sum()\n",
    "fg_perc_per_team['FG%'] = fg_perc_per_team['FG'] / fg_perc_per_team['FGA']\n",
    "fg_perc_per_team.sort_values(by= 'FG%', ascending= False).head()"
   ]
  },
  {
   "cell_type": "markdown",
   "metadata": {},
   "source": [
    "4. What's the difference between the best and worst 3P shooters (by position)?"
   ]
  },
  {
   "cell_type": "code",
   "execution_count": 58,
   "metadata": {},
   "outputs": [
    {
     "name": "stdout",
     "output_type": "stream",
     "text": [
      "0.024253659969040164\n"
     ]
    }
   ],
   "source": [
    "# First we calculate the accuracy of 3P throwers by position:\n",
    "top_3p_by_position = df.groupby('Pos')[['3P','3PA']].apply( lambda rows: rows['3P'].sum() / rows['3PA'].sum()).sort_values(ascending = False)\n",
    "\n",
    "# We can then calculate the difference in accuracy between the max value and the min value:\n",
    "print(top_3p_by_position.max() - top_3p_by_position.min())"
   ]
  },
  {
   "cell_type": "markdown",
   "metadata": {},
   "source": [
    "5. Find the best scorers in each team"
   ]
  },
  {
   "cell_type": "code",
   "execution_count": 61,
   "metadata": {},
   "outputs": [
    {
     "data": {
      "text/html": [
       "<div>\n",
       "<style scoped>\n",
       "    .dataframe tbody tr th:only-of-type {\n",
       "        vertical-align: middle;\n",
       "    }\n",
       "\n",
       "    .dataframe tbody tr th {\n",
       "        vertical-align: top;\n",
       "    }\n",
       "\n",
       "    .dataframe thead th {\n",
       "        text-align: right;\n",
       "    }\n",
       "</style>\n",
       "<table border=\"1\" class=\"dataframe\">\n",
       "  <thead>\n",
       "    <tr style=\"text-align: right;\">\n",
       "      <th></th>\n",
       "      <th>Player</th>\n",
       "      <th>Team</th>\n",
       "      <th>Pos</th>\n",
       "      <th>PTS</th>\n",
       "    </tr>\n",
       "  </thead>\n",
       "  <tbody>\n",
       "    <tr>\n",
       "      <th>567</th>\n",
       "      <td>Russell Westbrook</td>\n",
       "      <td>Oklahoma City Thunder</td>\n",
       "      <td>PG</td>\n",
       "      <td>2558.0</td>\n",
       "    </tr>\n",
       "    <tr>\n",
       "      <th>214</th>\n",
       "      <td>James Harden</td>\n",
       "      <td>Houston Rockets</td>\n",
       "      <td>PG</td>\n",
       "      <td>2356.0</td>\n",
       "    </tr>\n",
       "    <tr>\n",
       "      <th>525</th>\n",
       "      <td>Isaiah Thomas</td>\n",
       "      <td>Boston Celtics</td>\n",
       "      <td>PG</td>\n",
       "      <td>2199.0</td>\n",
       "    </tr>\n",
       "    <tr>\n",
       "      <th>122</th>\n",
       "      <td>Anthony Davis</td>\n",
       "      <td>New Orleans Pelicans</td>\n",
       "      <td>C</td>\n",
       "      <td>2099.0</td>\n",
       "    </tr>\n",
       "    <tr>\n",
       "      <th>538</th>\n",
       "      <td>Karl-Anthony Towns</td>\n",
       "      <td>Minnesota Timberwolves</td>\n",
       "      <td>C</td>\n",
       "      <td>2061.0</td>\n",
       "    </tr>\n",
       "  </tbody>\n",
       "</table>\n",
       "</div>"
      ],
      "text/plain": [
       "                 Player                    Team Pos     PTS\n",
       "567   Russell Westbrook   Oklahoma City Thunder  PG  2558.0\n",
       "214        James Harden         Houston Rockets  PG  2356.0\n",
       "525       Isaiah Thomas          Boston Celtics  PG  2199.0\n",
       "122       Anthony Davis    New Orleans Pelicans   C  2099.0\n",
       "538  Karl-Anthony Towns  Minnesota Timberwolves   C  2061.0"
      ]
     },
     "execution_count": 61,
     "metadata": {},
     "output_type": "execute_result"
    }
   ],
   "source": [
    "# First we must compute the best scorer per team, we can do it with the transform function:\n",
    "df[\"Best Score per Team\"] = df.groupby('Team')['PTS'].transform('max')\n",
    "\n",
    "# Then, it's just about finding the player that matches that best score:\n",
    "best_scorers_per_team = df.loc[\n",
    "    df['PTS'] == df[\"Best Score per Team\"],\n",
    "    ['Player', 'Team', 'Pos', 'PTS']\n",
    "].sort_values(by='PTS', ascending=False)\n",
    "\n",
    "best_scorers_per_team.head()"
   ]
  },
  {
   "cell_type": "markdown",
   "metadata": {},
   "source": [
    "6. Which team has the 'youngest squad', by average player age?"
   ]
  },
  {
   "cell_type": "code",
   "execution_count": 65,
   "metadata": {},
   "outputs": [
    {
     "data": {
      "text/plain": [
       "Team\n",
       "Portland Trail Blazers   1992-03-14 08:00:00.000000000\n",
       "Toronto Raptors          1991-04-16 16:56:28.235294080\n",
       "Boston Celtics           1991-04-04 19:12:00.000000000\n",
       "Orlando Magic            1991-01-31 16:25:15.789473664\n",
       "Denver Nuggets           1991-01-14 17:41:03.157894784\n",
       "Name: birth_date, dtype: datetime64[ns]"
      ]
     },
     "execution_count": 65,
     "metadata": {},
     "output_type": "execute_result"
    }
   ],
   "source": [
    "#We can use the birth_date column to compute the mean. Pandas correctly computes the mean of Timestamp series:\n",
    "df.groupby('Team')['birth_date'].mean().sort_values(ascending=False).head()\n",
    "\n"
   ]
  }
 ],
 "metadata": {
  "kernelspec": {
   "display_name": "Python 3",
   "language": "python",
   "name": "python3"
  },
  "language_info": {
   "codemirror_mode": {
    "name": "ipython",
    "version": 3
   },
   "file_extension": ".py",
   "mimetype": "text/x-python",
   "name": "python",
   "nbconvert_exporter": "python",
   "pygments_lexer": "ipython3",
   "version": "3.10.4"
  }
 },
 "nbformat": 4,
 "nbformat_minor": 2
}
